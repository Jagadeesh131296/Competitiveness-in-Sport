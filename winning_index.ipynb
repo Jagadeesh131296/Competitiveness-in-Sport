{
 "cells": [
  {
   "cell_type": "markdown",
   "id": "40766c85",
   "metadata": {},
   "source": [
    "# Calculating the winning index"
   ]
  },
  {
   "cell_type": "code",
   "execution_count": 1,
   "id": "398ab737",
   "metadata": {},
   "outputs": [],
   "source": [
    "#Importing neccessary libraries\n",
    "import pandas as pd\n",
    "import numpy as np\n",
    "import matplotlib.pyplot as plt\n",
    "import seaborn as sns\n",
    "#Reading the four csv files using pandas\n",
    "dfipl = pd.read_csv(\"C:\\\\Users\\\\jagan\\\\OneDrive\\\\Documents\\\\cw term2\\\\RP\\DATA\\\\iplpoints_table.csv\")\n",
    "dfbbl = pd.read_csv(\"C:\\\\Users\\\\jagan\\\\OneDrive\\\\Documents\\\\cw term2\\\\RP\\DATA\\\\bblpointstable.csv\")\n",
    "dfblast = pd.read_csv(\"C:\\\\Users\\\\jagan\\\\OneDrive\\\\Documents\\\\cw term2\\\\RP\\DATA\\\\blastpointstable.csv\", encoding= 'unicode_escape')\n",
    "dfcpl = pd.read_csv(\"C:\\\\Users\\\\jagan\\\\OneDrive\\\\Documents\\\\cw term2\\\\RP\\DATA\\\\cplpointstable.csv\")"
   ]
  },
  {
   "cell_type": "code",
   "execution_count": 2,
   "id": "ad964c78",
   "metadata": {},
   "outputs": [
    {
     "data": {
      "text/html": [
       "<div>\n",
       "<style scoped>\n",
       "    .dataframe tbody tr th:only-of-type {\n",
       "        vertical-align: middle;\n",
       "    }\n",
       "\n",
       "    .dataframe tbody tr th {\n",
       "        vertical-align: top;\n",
       "    }\n",
       "\n",
       "    .dataframe thead th {\n",
       "        text-align: right;\n",
       "    }\n",
       "</style>\n",
       "<table border=\"1\" class=\"dataframe\">\n",
       "  <thead>\n",
       "    <tr style=\"text-align: right;\">\n",
       "      <th></th>\n",
       "      <th>season</th>\n",
       "      <th>rank</th>\n",
       "      <th>name</th>\n",
       "      <th>short_name</th>\n",
       "      <th>matchesplayed</th>\n",
       "      <th>matcheswon</th>\n",
       "      <th>matcheslost</th>\n",
       "      <th>noresult</th>\n",
       "      <th>matchpoints</th>\n",
       "      <th>nrr</th>\n",
       "      <th>for</th>\n",
       "      <th>against</th>\n",
       "    </tr>\n",
       "  </thead>\n",
       "  <tbody>\n",
       "    <tr>\n",
       "      <th>0</th>\n",
       "      <td>2022</td>\n",
       "      <td>1</td>\n",
       "      <td>Gujarat Titans</td>\n",
       "      <td>GT</td>\n",
       "      <td>14</td>\n",
       "      <td>10</td>\n",
       "      <td>4</td>\n",
       "      <td>0</td>\n",
       "      <td>20</td>\n",
       "      <td>0.316</td>\n",
       "      <td>2339/278.1</td>\n",
       "      <td>2216/273.5</td>\n",
       "    </tr>\n",
       "    <tr>\n",
       "      <th>1</th>\n",
       "      <td>2022</td>\n",
       "      <td>2</td>\n",
       "      <td>Rajasthan Royals</td>\n",
       "      <td>RR</td>\n",
       "      <td>14</td>\n",
       "      <td>9</td>\n",
       "      <td>5</td>\n",
       "      <td>0</td>\n",
       "      <td>18</td>\n",
       "      <td>0.298</td>\n",
       "      <td>2464/279.2</td>\n",
       "      <td>2351/275.5</td>\n",
       "    </tr>\n",
       "    <tr>\n",
       "      <th>2</th>\n",
       "      <td>2022</td>\n",
       "      <td>3</td>\n",
       "      <td>Lucknow Super Giants</td>\n",
       "      <td>LSG</td>\n",
       "      <td>14</td>\n",
       "      <td>9</td>\n",
       "      <td>5</td>\n",
       "      <td>0</td>\n",
       "      <td>18</td>\n",
       "      <td>0.251</td>\n",
       "      <td>2355/279.1</td>\n",
       "      <td>2289/279.4</td>\n",
       "    </tr>\n",
       "    <tr>\n",
       "      <th>3</th>\n",
       "      <td>2022</td>\n",
       "      <td>4</td>\n",
       "      <td>Royal Challengers Bangalore</td>\n",
       "      <td>RCB</td>\n",
       "      <td>14</td>\n",
       "      <td>8</td>\n",
       "      <td>6</td>\n",
       "      <td>0</td>\n",
       "      <td>16</td>\n",
       "      <td>-0.253</td>\n",
       "      <td>2268/275.4</td>\n",
       "      <td>2260/266.3</td>\n",
       "    </tr>\n",
       "    <tr>\n",
       "      <th>4</th>\n",
       "      <td>2022</td>\n",
       "      <td>5</td>\n",
       "      <td>Delhi Capitals</td>\n",
       "      <td>DC</td>\n",
       "      <td>14</td>\n",
       "      <td>7</td>\n",
       "      <td>7</td>\n",
       "      <td>0</td>\n",
       "      <td>14</td>\n",
       "      <td>0.204</td>\n",
       "      <td>2341/266.0</td>\n",
       "      <td>2397/278.5</td>\n",
       "    </tr>\n",
       "  </tbody>\n",
       "</table>\n",
       "</div>"
      ],
      "text/plain": [
       "   season  rank                         name short_name  matchesplayed  \\\n",
       "0    2022     1               Gujarat Titans         GT             14   \n",
       "1    2022     2             Rajasthan Royals         RR             14   \n",
       "2    2022     3         Lucknow Super Giants        LSG             14   \n",
       "3    2022     4  Royal Challengers Bangalore        RCB             14   \n",
       "4    2022     5               Delhi Capitals         DC             14   \n",
       "\n",
       "   matcheswon  matcheslost  noresult  matchpoints    nrr         for  \\\n",
       "0          10            4         0           20  0.316  2339/278.1   \n",
       "1           9            5         0           18  0.298  2464/279.2   \n",
       "2           9            5         0           18  0.251  2355/279.1   \n",
       "3           8            6         0           16 -0.253  2268/275.4   \n",
       "4           7            7         0           14  0.204  2341/266.0   \n",
       "\n",
       "      against  \n",
       "0  2216/273.5  \n",
       "1  2351/275.5  \n",
       "2  2289/279.4  \n",
       "3  2260/266.3  \n",
       "4  2397/278.5  "
      ]
     },
     "execution_count": 2,
     "metadata": {},
     "output_type": "execute_result"
    }
   ],
   "source": [
    "#Displaying the head of the IPL dataframe\n",
    "dfipl.head()"
   ]
  },
  {
   "cell_type": "code",
   "execution_count": 3,
   "id": "72d681cd",
   "metadata": {},
   "outputs": [
    {
     "data": {
      "text/html": [
       "<div>\n",
       "<style scoped>\n",
       "    .dataframe tbody tr th:only-of-type {\n",
       "        vertical-align: middle;\n",
       "    }\n",
       "\n",
       "    .dataframe tbody tr th {\n",
       "        vertical-align: top;\n",
       "    }\n",
       "\n",
       "    .dataframe thead th {\n",
       "        text-align: right;\n",
       "    }\n",
       "</style>\n",
       "<table border=\"1\" class=\"dataframe\">\n",
       "  <thead>\n",
       "    <tr style=\"text-align: right;\">\n",
       "      <th></th>\n",
       "      <th>Season</th>\n",
       "      <th>#</th>\n",
       "      <th>TEAM</th>\n",
       "      <th>MAT</th>\n",
       "      <th>WON</th>\n",
       "      <th>LOST</th>\n",
       "      <th>N/R</th>\n",
       "      <th>TIE</th>\n",
       "      <th>PTS</th>\n",
       "      <th>WIN %</th>\n",
       "      <th>NET RR</th>\n",
       "      <th>FOR</th>\n",
       "      <th>AGAINST</th>\n",
       "    </tr>\n",
       "  </thead>\n",
       "  <tbody>\n",
       "    <tr>\n",
       "      <th>0</th>\n",
       "      <td>2011</td>\n",
       "      <td>1</td>\n",
       "      <td>PERTH SCORCHERS</td>\n",
       "      <td>7</td>\n",
       "      <td>5</td>\n",
       "      <td>2</td>\n",
       "      <td>0</td>\n",
       "      <td>0</td>\n",
       "      <td>10</td>\n",
       "      <td>71.43%</td>\n",
       "      <td>0.6261</td>\n",
       "      <td>1061/133.3</td>\n",
       "      <td>1025/140.0</td>\n",
       "    </tr>\n",
       "    <tr>\n",
       "      <th>1</th>\n",
       "      <td>2011</td>\n",
       "      <td>2</td>\n",
       "      <td>HOBART HURRICANES</td>\n",
       "      <td>7</td>\n",
       "      <td>5</td>\n",
       "      <td>2</td>\n",
       "      <td>0</td>\n",
       "      <td>0</td>\n",
       "      <td>10</td>\n",
       "      <td>71.43%</td>\n",
       "      <td>0.5695</td>\n",
       "      <td>1175/138.3</td>\n",
       "      <td>1108/140.0</td>\n",
       "    </tr>\n",
       "    <tr>\n",
       "      <th>2</th>\n",
       "      <td>2011</td>\n",
       "      <td>3</td>\n",
       "      <td>SYDNEY SIXERS</td>\n",
       "      <td>7</td>\n",
       "      <td>5</td>\n",
       "      <td>2</td>\n",
       "      <td>0</td>\n",
       "      <td>0</td>\n",
       "      <td>10</td>\n",
       "      <td>71.43%</td>\n",
       "      <td>0.2696</td>\n",
       "      <td>968/124.1</td>\n",
       "      <td>927/123.1</td>\n",
       "    </tr>\n",
       "    <tr>\n",
       "      <th>3</th>\n",
       "      <td>2011</td>\n",
       "      <td>4</td>\n",
       "      <td>MELBOURNE STARS</td>\n",
       "      <td>7</td>\n",
       "      <td>4</td>\n",
       "      <td>3</td>\n",
       "      <td>0</td>\n",
       "      <td>0</td>\n",
       "      <td>8</td>\n",
       "      <td>57.14%</td>\n",
       "      <td>0.2622</td>\n",
       "      <td>1024/127.0</td>\n",
       "      <td>992/127.1</td>\n",
       "    </tr>\n",
       "    <tr>\n",
       "      <th>4</th>\n",
       "      <td>2011</td>\n",
       "      <td>5</td>\n",
       "      <td>BRISBANE HEAT</td>\n",
       "      <td>7</td>\n",
       "      <td>3</td>\n",
       "      <td>4</td>\n",
       "      <td>0</td>\n",
       "      <td>0</td>\n",
       "      <td>6</td>\n",
       "      <td>42.86%</td>\n",
       "      <td>0.3242</td>\n",
       "      <td>1159/140.0</td>\n",
       "      <td>1103/138.4</td>\n",
       "    </tr>\n",
       "  </tbody>\n",
       "</table>\n",
       "</div>"
      ],
      "text/plain": [
       "   Season  #                TEAM  MAT  WON  LOST  N/R  TIE  PTS   WIN %  \\\n",
       "0    2011  1     PERTH SCORCHERS    7    5     2    0    0   10  71.43%   \n",
       "1    2011  2   HOBART HURRICANES    7    5     2    0    0   10  71.43%   \n",
       "2    2011  3       SYDNEY SIXERS    7    5     2    0    0   10  71.43%   \n",
       "3    2011  4     MELBOURNE STARS    7    4     3    0    0    8  57.14%   \n",
       "4    2011  5       BRISBANE HEAT    7    3     4    0    0    6  42.86%   \n",
       "\n",
       "   NET RR         FOR     AGAINST  \n",
       "0  0.6261  1061/133.3  1025/140.0  \n",
       "1  0.5695  1175/138.3  1108/140.0  \n",
       "2  0.2696   968/124.1   927/123.1  \n",
       "3  0.2622  1024/127.0   992/127.1  \n",
       "4  0.3242  1159/140.0  1103/138.4  "
      ]
     },
     "execution_count": 3,
     "metadata": {},
     "output_type": "execute_result"
    }
   ],
   "source": [
    "#Displaying the head of the BBL dataframe\n",
    "dfbbl.head()"
   ]
  },
  {
   "cell_type": "code",
   "execution_count": 4,
   "id": "6e9c80d9",
   "metadata": {},
   "outputs": [
    {
     "data": {
      "text/html": [
       "<div>\n",
       "<style scoped>\n",
       "    .dataframe tbody tr th:only-of-type {\n",
       "        vertical-align: middle;\n",
       "    }\n",
       "\n",
       "    .dataframe tbody tr th {\n",
       "        vertical-align: top;\n",
       "    }\n",
       "\n",
       "    .dataframe thead th {\n",
       "        text-align: right;\n",
       "    }\n",
       "</style>\n",
       "<table border=\"1\" class=\"dataframe\">\n",
       "  <thead>\n",
       "    <tr style=\"text-align: right;\">\n",
       "      <th></th>\n",
       "      <th>Season</th>\n",
       "      <th>Team</th>\n",
       "      <th>Pld</th>\n",
       "      <th>W</th>\n",
       "      <th>L</th>\n",
       "      <th>T</th>\n",
       "      <th>NR</th>\n",
       "      <th>Pts</th>\n",
       "    </tr>\n",
       "  </thead>\n",
       "  <tbody>\n",
       "    <tr>\n",
       "      <th>0</th>\n",
       "      <td>2003</td>\n",
       "      <td>Gloucestershire Gladiators</td>\n",
       "      <td>5</td>\n",
       "      <td>5</td>\n",
       "      <td>0</td>\n",
       "      <td>0</td>\n",
       "      <td>0</td>\n",
       "      <td>10.0</td>\n",
       "    </tr>\n",
       "    <tr>\n",
       "      <th>1</th>\n",
       "      <td>2003</td>\n",
       "      <td>Warwickshire Bears</td>\n",
       "      <td>5</td>\n",
       "      <td>4</td>\n",
       "      <td>1</td>\n",
       "      <td>0</td>\n",
       "      <td>0</td>\n",
       "      <td>8.0</td>\n",
       "    </tr>\n",
       "    <tr>\n",
       "      <th>2</th>\n",
       "      <td>2003</td>\n",
       "      <td>Northamptonshire Steelbacks</td>\n",
       "      <td>5</td>\n",
       "      <td>2</td>\n",
       "      <td>3</td>\n",
       "      <td>0</td>\n",
       "      <td>0</td>\n",
       "      <td>4.0</td>\n",
       "    </tr>\n",
       "    <tr>\n",
       "      <th>3</th>\n",
       "      <td>2003</td>\n",
       "      <td>Worcestershire Royals</td>\n",
       "      <td>5</td>\n",
       "      <td>2</td>\n",
       "      <td>3</td>\n",
       "      <td>0</td>\n",
       "      <td>0</td>\n",
       "      <td>4.0</td>\n",
       "    </tr>\n",
       "    <tr>\n",
       "      <th>4</th>\n",
       "      <td>2003</td>\n",
       "      <td>Glamorgan Dragons</td>\n",
       "      <td>5</td>\n",
       "      <td>1</td>\n",
       "      <td>4</td>\n",
       "      <td>0</td>\n",
       "      <td>0</td>\n",
       "      <td>2.0</td>\n",
       "    </tr>\n",
       "  </tbody>\n",
       "</table>\n",
       "</div>"
      ],
      "text/plain": [
       "   Season                         Team  Pld  W  L  T  NR   Pts\n",
       "0    2003   Gloucestershire Gladiators    5  5  0  0   0  10.0\n",
       "1    2003           Warwickshire Bears    5  4  1  0   0   8.0\n",
       "2    2003  Northamptonshire Steelbacks    5  2  3  0   0   4.0\n",
       "3    2003        Worcestershire Royals    5  2  3  0   0   4.0\n",
       "4    2003            Glamorgan Dragons    5  1  4  0   0   2.0"
      ]
     },
     "execution_count": 4,
     "metadata": {},
     "output_type": "execute_result"
    }
   ],
   "source": [
    "#Displaying the head of the Blast dataframe\n",
    "dfblast.head()"
   ]
  },
  {
   "cell_type": "code",
   "execution_count": 5,
   "id": "5c219823",
   "metadata": {},
   "outputs": [
    {
     "data": {
      "text/html": [
       "<div>\n",
       "<style scoped>\n",
       "    .dataframe tbody tr th:only-of-type {\n",
       "        vertical-align: middle;\n",
       "    }\n",
       "\n",
       "    .dataframe tbody tr th {\n",
       "        vertical-align: top;\n",
       "    }\n",
       "\n",
       "    .dataframe thead th {\n",
       "        text-align: right;\n",
       "    }\n",
       "</style>\n",
       "<table border=\"1\" class=\"dataframe\">\n",
       "  <thead>\n",
       "    <tr style=\"text-align: right;\">\n",
       "      <th></th>\n",
       "      <th>Seasons</th>\n",
       "      <th>Teams</th>\n",
       "      <th>Mat</th>\n",
       "      <th>Won</th>\n",
       "      <th>Lost</th>\n",
       "      <th>Tied</th>\n",
       "      <th>NR</th>\n",
       "      <th>Pts</th>\n",
       "      <th>NRR</th>\n",
       "    </tr>\n",
       "  </thead>\n",
       "  <tbody>\n",
       "    <tr>\n",
       "      <th>0</th>\n",
       "      <td>2013</td>\n",
       "      <td>Guyana Amazon Warriors</td>\n",
       "      <td>7</td>\n",
       "      <td>5</td>\n",
       "      <td>2</td>\n",
       "      <td>0</td>\n",
       "      <td>0</td>\n",
       "      <td>10</td>\n",
       "      <td>0.63</td>\n",
       "    </tr>\n",
       "    <tr>\n",
       "      <th>1</th>\n",
       "      <td>2013</td>\n",
       "      <td>Jamaica Tallawahs</td>\n",
       "      <td>7</td>\n",
       "      <td>5</td>\n",
       "      <td>2</td>\n",
       "      <td>0</td>\n",
       "      <td>0</td>\n",
       "      <td>10</td>\n",
       "      <td>0.16</td>\n",
       "    </tr>\n",
       "    <tr>\n",
       "      <th>2</th>\n",
       "      <td>2013</td>\n",
       "      <td>Barbados Royals</td>\n",
       "      <td>7</td>\n",
       "      <td>4</td>\n",
       "      <td>3</td>\n",
       "      <td>0</td>\n",
       "      <td>0</td>\n",
       "      <td>8</td>\n",
       "      <td>1.07</td>\n",
       "    </tr>\n",
       "    <tr>\n",
       "      <th>3</th>\n",
       "      <td>2013</td>\n",
       "      <td>Trinbago Knight Riders</td>\n",
       "      <td>7</td>\n",
       "      <td>3</td>\n",
       "      <td>4</td>\n",
       "      <td>0</td>\n",
       "      <td>0</td>\n",
       "      <td>6</td>\n",
       "      <td>-0.65</td>\n",
       "    </tr>\n",
       "    <tr>\n",
       "      <th>4</th>\n",
       "      <td>2013</td>\n",
       "      <td>Antigua Hawksbills</td>\n",
       "      <td>7</td>\n",
       "      <td>2</td>\n",
       "      <td>5</td>\n",
       "      <td>0</td>\n",
       "      <td>0</td>\n",
       "      <td>4</td>\n",
       "      <td>-0.15</td>\n",
       "    </tr>\n",
       "  </tbody>\n",
       "</table>\n",
       "</div>"
      ],
      "text/plain": [
       "   Seasons                   Teams  Mat  Won  Lost  Tied  NR  Pts   NRR\n",
       "0     2013  Guyana Amazon Warriors    7    5     2     0   0   10  0.63\n",
       "1     2013       Jamaica Tallawahs    7    5     2     0   0   10  0.16\n",
       "2     2013         Barbados Royals    7    4     3     0   0    8  1.07\n",
       "3     2013  Trinbago Knight Riders    7    3     4     0   0    6 -0.65\n",
       "4     2013      Antigua Hawksbills    7    2     5     0   0    4 -0.15"
      ]
     },
     "execution_count": 5,
     "metadata": {},
     "output_type": "execute_result"
    }
   ],
   "source": [
    "#Displaying the head of the CPL dataframe\n",
    "dfcpl.head()"
   ]
  },
  {
   "cell_type": "code",
   "execution_count": 6,
   "id": "d5d898cd",
   "metadata": {},
   "outputs": [],
   "source": [
    "#Running Groupby for all leagues to aggregate sum function\n",
    "dfipl1 =dfipl.groupby(['name']).sum()\n",
    "dfbbl1 = dfbbl.groupby(['TEAM']).sum()\n",
    "dfblast1 = dfblast.groupby(['Team']).sum()\n",
    "dfcpl1 = dfcpl.groupby(['Teams']).sum()"
   ]
  },
  {
   "cell_type": "code",
   "execution_count": 7,
   "id": "0139646b",
   "metadata": {},
   "outputs": [],
   "source": [
    "#Calculating the winning index of all the leagues\n",
    "dfipl1['winning_index'] = dfipl1['matcheswon']/dfipl1['matchesplayed']\n",
    "x_ipl =dfipl1['winning_index'].mean()\n",
    "dfbbl1['winning_index'] = dfbbl1['WON']/dfbbl1['MAT']\n",
    "x_bbl =dfbbl1['winning_index'].mean()\n",
    "dfblast1['winning_index'] = dfblast1['W']/dfblast1['Pld']\n",
    "x_blast =dfblast1['winning_index'].mean()\n",
    "dfcpl1['winning_index'] = dfcpl1['Won']/dfcpl1['Mat']\n",
    "x_cpl =dfcpl1['winning_index'].mean()"
   ]
  },
  {
   "cell_type": "code",
   "execution_count": 8,
   "id": "e97f704e",
   "metadata": {},
   "outputs": [
    {
     "data": {
      "text/plain": [
       "Text(0, 0.5, 'Winning index')"
      ]
     },
     "execution_count": 8,
     "metadata": {},
     "output_type": "execute_result"
    },
    {
     "data": {
      "image/png": "[encoded data removed]",
      "text/plain": [
       "<Figure size 432x288 with 1 Axes>"
      ]
     },
     "metadata": {
      "needs_background": "light"
     },
     "output_type": "display_data"
    }
   ],
   "source": [
    "#Plotting the bar graph of winning index of each team in the IPL\n",
    "dfipl1['winning_index'].plot(kind=\"bar\",color = \"skyblue\")\n",
    "plt.title(\"IPL Overall Winning index of each team\")\n",
    "plt.xlabel(\"Team names\")\n",
    "plt.ylabel(\"Winning index\")"
   ]
  },
  {
   "cell_type": "code",
   "execution_count": 9,
   "id": "0c49ac34",
   "metadata": {},
   "outputs": [
    {
     "data": {
      "text/plain": [
       "Text(0, 0.5, 'Winning index')"
      ]
     },
     "execution_count": 9,
     "metadata": {},
     "output_type": "execute_result"
    },
    {
     "data": {
      "image/png": "[encoded data removed]",
      "text/plain": [
       "<Figure size 432x288 with 1 Axes>"
      ]
     },
     "metadata": {
      "needs_background": "light"
     },
     "output_type": "display_data"
    }
   ],
   "source": [
    "#Plotting the bar graph of winning index of each team in the BBL\n",
    "dfbbl1['winning_index'].plot(kind=\"bar\",color = \"brown\")\n",
    "plt.title(\"BBL Overall Winning index of each team\")\n",
    "plt.xlabel(\"Team names\")\n",
    "plt.ylabel(\"Winning index\")"
   ]
  },
  {
   "cell_type": "code",
   "execution_count": 10,
   "id": "250d5a24",
   "metadata": {},
   "outputs": [
    {
     "data": {
      "text/plain": [
       "Text(0, 0.5, 'Winning index')"
      ]
     },
     "execution_count": 10,
     "metadata": {},
     "output_type": "execute_result"
    },
    {
     "data": {
      "image/png": "[encoded data removed]",
      "text/plain": [
       "<Figure size 432x288 with 1 Axes>"
      ]
     },
     "metadata": {
      "needs_background": "light"
     },
     "output_type": "display_data"
    }
   ],
   "source": [
    "#Plotting the bar graph of winning index of each team in the Blast\n",
    "dfblast1['winning_index'].plot(kind=\"bar\",color = \"red\")\n",
    "plt.title(\"Blast T20 Overall Winning index of each team\")\n",
    "plt.xlabel(\"Team names\")\n",
    "plt.ylabel(\"Winning index\")"
   ]
  },
  {
   "cell_type": "code",
   "execution_count": 11,
   "id": "3d8c0114",
   "metadata": {},
   "outputs": [
    {
     "data": {
      "text/plain": [
       "Text(0, 0.5, 'Winning index')"
      ]
     },
     "execution_count": 11,
     "metadata": {},
     "output_type": "execute_result"
    },
    {
     "data": {
      "image/png": "[encoded data removed]",
      "text/plain": [
       "<Figure size 432x288 with 1 Axes>"
      ]
     },
     "metadata": {
      "needs_background": "light"
     },
     "output_type": "display_data"
    }
   ],
   "source": [
    "#Plotting the bar graph of winning index of each team in the CPL\n",
    "dfcpl1['winning_index'].plot(kind=\"bar\",color = \"yellow\")\n",
    "plt.title(\"CPL Overall Winning index of each team\")\n",
    "plt.xlabel(\"Team names\")\n",
    "plt.ylabel(\"Winning index\")"
   ]
  }
 ],
 "metadata": {
  "kernelspec": {
   "display_name": "Python 3 (ipykernel)",
   "language": "python",
   "name": "python3"
  },
  "language_info": {
   "codemirror_mode": {
    "name": "ipython",
    "version": 3
   },
   "file_extension": ".py",
   "mimetype": "text/x-python",
   "name": "python",
   "nbconvert_exporter": "python",
   "pygments_lexer": "ipython3",
   "version": "3.9.7"
  }
 },
 "nbformat": 4,
 "nbformat_minor": 5
}
